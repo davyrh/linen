{
  "cells": [
    {
      "cell_type": "markdown",
      "metadata": {
        "id": "Wd76FvDH7QQy"
      },
      "source": [
        "# Overview\n",
        "\n",
        "This notebook generates the tree classifier model used in the streamlit demo."
      ]
    },
    {
      "cell_type": "code",
      "execution_count": null,
      "metadata": {
        "id": "V_AIxNXG7QQ8"
      },
      "outputs": [],
      "source": [
        "# import packages\n",
        "import numpy as np\n",
        "import pandas as pd\n",
        "import matplotlib.pyplot as plt"
      ]
    },
    {
      "cell_type": "code",
      "execution_count": null,
      "metadata": {
        "id": "NON_C3mz7QRA"
      },
      "outputs": [],
      "source": [
        "# read csv data into pandas dataframe\n",
        "df = pd.read_csv('/content/linenassesment.csv')"
      ]
    },
    {
      "cell_type": "code",
      "execution_count": null,
      "metadata": {
        "colab": {
          "base_uri": "https://localhost:8080/"
        },
        "id": "AxhZWoxg7QRB",
        "outputId": "45ec15f2-ca83-47fc-ed1a-87422d78ee6f"
      },
      "outputs": [
        {
          "output_type": "stream",
          "name": "stdout",
          "text": [
            "<class 'pandas.core.frame.DataFrame'>\n",
            "RangeIndex: 891 entries, 0 to 890\n",
            "Data columns (total 7 columns):\n",
            " #   Column     Non-Null Count  Dtype  \n",
            "---  ------     --------------  -----  \n",
            " 0   Education  891 non-null    int64  \n",
            " 1   Sex        891 non-null    object \n",
            " 2   Age        891 non-null    float64\n",
            " 3   Sibling    891 non-null    int64  \n",
            " 4   Parent     891 non-null    int64  \n",
            " 5   Placetest  891 non-null    int64  \n",
            " 6   English    891 non-null    object \n",
            "dtypes: float64(1), int64(4), object(2)\n",
            "memory usage: 48.9+ KB\n"
          ]
        }
      ],
      "source": [
        "# Prepare the data by separating X and y\n",
        "# dropping unimportant features, such as passenger id, name, ticket number and cabin number\n",
        "# note that interesting features might be engieered from the dropped features above\n",
        "\n",
        "# axis = 1 below means dropping by columns, 0 means by rows\n",
        "X = df.drop(['Passed', 'UserId', 'Name', 'IdCard', 'Passport'], axis=1)\n",
        "y = df['Passed']\n",
        "X.info()"
      ]
    },
    {
      "cell_type": "code",
      "execution_count": null,
      "metadata": {
        "colab": {
          "base_uri": "https://localhost:8080/"
        },
        "id": "8X1ifZk47QRE",
        "outputId": "c32536b5-63ca-4a33-cb84-a038208df2b5"
      },
      "outputs": [
        {
          "output_type": "stream",
          "name": "stdout",
          "text": [
            "(712, 7)\n",
            "(179, 7)\n"
          ]
        }
      ],
      "source": [
        "# Split the data into a training set and a test set. \n",
        "# Any number for the random_state is fine, see 42: https://en.wikipedia.org/wiki/42_(number) \n",
        "# We choose to use 20% (test_size=0.2) of the data set as the test set.\n",
        "from sklearn.model_selection import train_test_split\n",
        "X_train, X_test, y_train, y_test = train_test_split(X, y, test_size=0.2, random_state=42)\n",
        "\n",
        "print(X_train.shape)\n",
        "print(X_test.shape)"
      ]
    },
    {
      "cell_type": "code",
      "execution_count": null,
      "metadata": {
        "id": "BeKuqxxA7QRF"
      },
      "outputs": [],
      "source": [
        "# We will train our decision tree classifier with the following features:\n",
        "# Numerical Features: ['Age', 'Sibling', 'Placetest']\n",
        "# Categorical Features:['Sex', 'English', 'Education'\n",
        "\n",
        "num_features = ['Age', 'Sibling', 'Placetest']\n",
        "cat_features = ['Sex', 'Education']"
      ]
    },
    {
      "cell_type": "code",
      "execution_count": null,
      "metadata": {
        "id": "OCp7WnSe7QRG"
      },
      "outputs": [],
      "source": [
        "from sklearn.pipeline import Pipeline\n",
        "from sklearn.impute import SimpleImputer\n",
        "from sklearn.preprocessing import StandardScaler, OneHotEncoder\n",
        "\n",
        "# Create the preprocessing pipeline for numerical features\n",
        "# There are two steps in this pipeline\n",
        "# Pipeline(steps=[(name1, transform1), (name2, transform2), ...]) \n",
        "# NOTE the step names can be arbitrary\n",
        "\n",
        "# Step 1 is what we discussed before - filling the missing values if any using mean\n",
        "# Step 2 is feature scaling via standardization - making features look like normal-distributed \n",
        "# see sandardization: https://scikit-learn.org/stable/modules/generated/sklearn.preprocessing.StandardScaler.html)\n",
        "num_pipeline = Pipeline(\n",
        "    steps=[\n",
        "        ('num_imputer', SimpleImputer()),  # we will tune differet strategies later\n",
        "        ('scaler', StandardScaler()),\n",
        "        ]\n",
        ")\n",
        "\n",
        "# Create the preprocessing pipelines for the categorical features\n",
        "# There are two steps in this pipeline:\n",
        "# Step 1: filling the missing values if any using the most frequent value\n",
        "# Step 2: one hot encoding\n",
        "\n",
        "cat_pipeline = Pipeline(\n",
        "    steps=[\n",
        "        ('cat_imputer', SimpleImputer(strategy='most_frequent')),\n",
        "        ('onehot', OneHotEncoder()),\n",
        "    ]\n",
        ")\n",
        "\n",
        "# Assign features to the pipelines and Combine two pipelines to form the preprocessor\n",
        "from sklearn.compose import ColumnTransformer\n",
        "\n",
        "preprocessor = ColumnTransformer(\n",
        "    transformers=[\n",
        "        ('num_pipeline', num_pipeline, num_features),\n",
        "        ('cat_pipeline', cat_pipeline, cat_features),\n",
        "    ]\n",
        ")"
      ]
    },
    {
      "cell_type": "code",
      "execution_count": null,
      "metadata": {
        "id": "KNCnxQkH7QRK"
      },
      "outputs": [],
      "source": [
        "# Specify the model to use, which is DecisionTreeClassifier\n",
        "# Make a full pipeline by combining preprocessor and the model\n",
        "from sklearn.tree import DecisionTreeClassifier\n",
        "\n",
        "pipeline_dt = Pipeline(\n",
        "    steps=[\n",
        "        ('preprocessor', preprocessor),\n",
        "        ('clf_dt', DecisionTreeClassifier()),\n",
        "    ]\n",
        ")"
      ]
    },
    {
      "cell_type": "code",
      "execution_count": null,
      "metadata": {
        "id": "8UlbGRGB7QRL"
      },
      "outputs": [],
      "source": [
        "# we show how to use GridSearch with K-fold cross validation (K=10) to fine tune the model\n",
        "# we use the accuracy as the scoring metric with training score return_train_score=True\n",
        "from sklearn.model_selection import GridSearchCV\n",
        "\n",
        "# set up the values of hyperparameters you want to evaluate\n",
        "# here you must use the step names as the prefix followed by two under_scores to sepecify the parameter names and the \"full path\" of the steps\n",
        "\n",
        "# we are trying 2 different impputer strategies \n",
        "# 2x5 different decision tree models with different parameters\n",
        "# in total we are trying 2x2x5 = 20 different combinations\n",
        "\n",
        "param_grid_dt = [\n",
        "    {\n",
        "        'preprocessor__num_pipeline__num_imputer__strategy': ['mean', 'median'],\n",
        "        'clf_dt__criterion': ['gini', 'entropy'], \n",
        "        'clf_dt__max_depth': [3, 4, 5, 6, 7],\n",
        "    }\n",
        "]\n",
        "\n",
        "# set up the grid search \n",
        "grid_search_dt = GridSearchCV(pipeline_dt, param_grid_dt, cv=10, scoring='accuracy')"
      ]
    },
    {
      "cell_type": "code",
      "execution_count": null,
      "metadata": {
        "colab": {
          "base_uri": "https://localhost:8080/"
        },
        "id": "Nu7iHqbw7QRO",
        "outputId": "d742cc58-8f8b-4f5e-9ae1-7a4083fa2039"
      },
      "outputs": [
        {
          "output_type": "execute_result",
          "data": {
            "text/plain": [
              "GridSearchCV(cv=10,\n",
              "             estimator=Pipeline(steps=[('preprocessor',\n",
              "                                        ColumnTransformer(transformers=[('num_pipeline',\n",
              "                                                                         Pipeline(steps=[('num_imputer',\n",
              "                                                                                          SimpleImputer()),\n",
              "                                                                                         ('scaler',\n",
              "                                                                                          StandardScaler())]),\n",
              "                                                                         ['Age',\n",
              "                                                                          'Sibling',\n",
              "                                                                          'Placetest']),\n",
              "                                                                        ('cat_pipeline',\n",
              "                                                                         Pipeline(steps=[('cat_imputer',\n",
              "                                                                                          SimpleImputer(strategy='most_frequent')),\n",
              "                                                                                         ('onehot',\n",
              "                                                                                          OneHotEncoder())]),\n",
              "                                                                         ['Sex',\n",
              "                                                                          'Education'])])),\n",
              "                                       ('clf_dt', DecisionTreeClassifier())]),\n",
              "             param_grid=[{'clf_dt__criterion': ['gini', 'entropy'],\n",
              "                          'clf_dt__max_depth': [3, 4, 5, 6, 7],\n",
              "                          'preprocessor__num_pipeline__num_imputer__strategy': ['mean',\n",
              "                                                                                'median']}],\n",
              "             scoring='accuracy')"
            ]
          },
          "metadata": {},
          "execution_count": 10
        }
      ],
      "source": [
        "# train the model using the full pipeline\n",
        "grid_search_dt.fit(X_train, y_train)"
      ]
    },
    {
      "cell_type": "code",
      "execution_count": null,
      "metadata": {
        "colab": {
          "base_uri": "https://localhost:8080/"
        },
        "id": "O2oWaOX07QRP",
        "outputId": "9161dc76-d127-4a08-f1cb-179d377139d6"
      },
      "outputs": [
        {
          "output_type": "execute_result",
          "data": {
            "text/plain": [
              "{'clf_dt__criterion': 'entropy',\n",
              " 'clf_dt__max_depth': 4,\n",
              " 'preprocessor__num_pipeline__num_imputer__strategy': 'mean'}"
            ]
          },
          "metadata": {},
          "execution_count": 11
        }
      ],
      "source": [
        "# check the best performing parameter combination\n",
        "grid_search_dt.best_params_"
      ]
    },
    {
      "cell_type": "code",
      "execution_count": null,
      "metadata": {
        "colab": {
          "base_uri": "https://localhost:8080/"
        },
        "id": "V1bW7xcA7QRQ",
        "outputId": "f698fd57-0741-4a06-e3e2-8283f3e1d9a7"
      },
      "outputs": [
        {
          "output_type": "execute_result",
          "data": {
            "text/plain": [
              "0.7921361502347418"
            ]
          },
          "metadata": {},
          "execution_count": 12
        }
      ],
      "source": [
        "# best decistion tree model test score\n",
        "grid_search_dt.best_score_"
      ]
    },
    {
      "cell_type": "code",
      "execution_count": null,
      "metadata": {
        "id": "aGq-LmAN7QRS"
      },
      "outputs": [],
      "source": [
        "clf_best = grid_search_dt.best_estimator_"
      ]
    },
    {
      "cell_type": "code",
      "execution_count": null,
      "metadata": {
        "colab": {
          "base_uri": "https://localhost:8080/"
        },
        "id": "_CjoH2ll7QRT",
        "outputId": "9f39b5b0-dd6b-4357-c4a5-972f5f7db8e1"
      },
      "outputs": [
        {
          "output_type": "stream",
          "name": "stdout",
          "text": [
            "Accuracy Score : 0.7988826815642458\n"
          ]
        }
      ],
      "source": [
        "# final test on the testing set\n",
        "# To predict on new data: simply calling the predict method \n",
        "# the full pipeline steps will be applied to the testing set followed by the prediction\n",
        "y_pred = clf_best.predict(X_test)\n",
        "\n",
        "from sklearn.metrics import accuracy_score\n",
        "# calculate accuracy, Note: y_test is the ground truth for the tesing set\n",
        "# we have similiar score for the testing set as the cross validation score - good\n",
        "\n",
        "print(f'Accuracy Score : {accuracy_score(y_test, y_pred)}')"
      ]
    },
    {
      "cell_type": "markdown",
      "metadata": {
        "id": "JbLW2-9S7QRU"
      },
      "source": [
        "## Persist the Model\n",
        "The following code shows how to save the trained model as a pickle file, which can be loaded in to make predictions."
      ]
    },
    {
      "cell_type": "code",
      "execution_count": null,
      "metadata": {
        "colab": {
          "base_uri": "https://localhost:8080/"
        },
        "id": "ZqRMXP9r7QRU",
        "outputId": "30914a48-56a0-4d6e-8caf-87660bf5dd42"
      },
      "outputs": [
        {
          "output_type": "execute_result",
          "data": {
            "text/plain": [
              "['clf-linen-best.pickle']"
            ]
          },
          "metadata": {},
          "execution_count": 15
        }
      ],
      "source": [
        "# Save the model as a pickle file\n",
        "import joblib\n",
        "joblib.dump(clf_best, \"clf-linen-best.pickle\")"
      ]
    },
    {
      "cell_type": "code",
      "execution_count": null,
      "metadata": {
        "colab": {
          "base_uri": "https://localhost:8080/"
        },
        "id": "LrSpiwmy7QRV",
        "outputId": "48afad0c-f832-4e9f-92a9-63915bcbb13d"
      },
      "outputs": [
        {
          "output_type": "execute_result",
          "data": {
            "text/plain": [
              "Pipeline(steps=[('preprocessor',\n",
              "                 ColumnTransformer(transformers=[('num_pipeline',\n",
              "                                                  Pipeline(steps=[('num_imputer',\n",
              "                                                                   SimpleImputer()),\n",
              "                                                                  ('scaler',\n",
              "                                                                   StandardScaler())]),\n",
              "                                                  ['Age', 'Sibling',\n",
              "                                                   'Placetest']),\n",
              "                                                 ('cat_pipeline',\n",
              "                                                  Pipeline(steps=[('cat_imputer',\n",
              "                                                                   SimpleImputer(strategy='most_frequent')),\n",
              "                                                                  ('onehot',\n",
              "                                                                   OneHotEncoder())]),\n",
              "                                                  ['Sex', 'Education'])])),\n",
              "                ('clf_dt',\n",
              "                 DecisionTreeClassifier(criterion='entropy', max_depth=4))])"
            ]
          },
          "metadata": {},
          "execution_count": 16
        }
      ],
      "source": [
        "# Load the model from a pickle file\n",
        "saved_tree_clf = joblib.load(\"clf-linen-best.pickle\")\n",
        "saved_tree_clf"
      ]
    },
    {
      "cell_type": "code",
      "execution_count": null,
      "metadata": {
        "colab": {
          "base_uri": "https://localhost:8080/",
          "height": 81
        },
        "id": "N7HQypjd7QRW",
        "outputId": "82a9797a-20e9-4faf-e69f-679c6679366d"
      },
      "outputs": [
        {
          "output_type": "execute_result",
          "data": {
            "text/plain": [
              "   Education   Sex  Age  Sibling  Placetest\n",
              "0          3  male   23        0         70"
            ],
            "text/html": [
              "\n",
              "  <div id=\"df-95a7ebe6-3113-4ac7-939f-9d73820b1986\">\n",
              "    <div class=\"colab-df-container\">\n",
              "      <div>\n",
              "<style scoped>\n",
              "    .dataframe tbody tr th:only-of-type {\n",
              "        vertical-align: middle;\n",
              "    }\n",
              "\n",
              "    .dataframe tbody tr th {\n",
              "        vertical-align: top;\n",
              "    }\n",
              "\n",
              "    .dataframe thead th {\n",
              "        text-align: right;\n",
              "    }\n",
              "</style>\n",
              "<table border=\"1\" class=\"dataframe\">\n",
              "  <thead>\n",
              "    <tr style=\"text-align: right;\">\n",
              "      <th></th>\n",
              "      <th>Education</th>\n",
              "      <th>Sex</th>\n",
              "      <th>Age</th>\n",
              "      <th>Sibling</th>\n",
              "      <th>Placetest</th>\n",
              "    </tr>\n",
              "  </thead>\n",
              "  <tbody>\n",
              "    <tr>\n",
              "      <th>0</th>\n",
              "      <td>3</td>\n",
              "      <td>male</td>\n",
              "      <td>23</td>\n",
              "      <td>0</td>\n",
              "      <td>70</td>\n",
              "    </tr>\n",
              "  </tbody>\n",
              "</table>\n",
              "</div>\n",
              "      <button class=\"colab-df-convert\" onclick=\"convertToInteractive('df-95a7ebe6-3113-4ac7-939f-9d73820b1986')\"\n",
              "              title=\"Convert this dataframe to an interactive table.\"\n",
              "              style=\"display:none;\">\n",
              "        \n",
              "  <svg xmlns=\"http://www.w3.org/2000/svg\" height=\"24px\"viewBox=\"0 0 24 24\"\n",
              "       width=\"24px\">\n",
              "    <path d=\"M0 0h24v24H0V0z\" fill=\"none\"/>\n",
              "    <path d=\"M18.56 5.44l.94 2.06.94-2.06 2.06-.94-2.06-.94-.94-2.06-.94 2.06-2.06.94zm-11 1L8.5 8.5l.94-2.06 2.06-.94-2.06-.94L8.5 2.5l-.94 2.06-2.06.94zm10 10l.94 2.06.94-2.06 2.06-.94-2.06-.94-.94-2.06-.94 2.06-2.06.94z\"/><path d=\"M17.41 7.96l-1.37-1.37c-.4-.4-.92-.59-1.43-.59-.52 0-1.04.2-1.43.59L10.3 9.45l-7.72 7.72c-.78.78-.78 2.05 0 2.83L4 21.41c.39.39.9.59 1.41.59.51 0 1.02-.2 1.41-.59l7.78-7.78 2.81-2.81c.8-.78.8-2.07 0-2.86zM5.41 20L4 18.59l7.72-7.72 1.47 1.35L5.41 20z\"/>\n",
              "  </svg>\n",
              "      </button>\n",
              "      \n",
              "  <style>\n",
              "    .colab-df-container {\n",
              "      display:flex;\n",
              "      flex-wrap:wrap;\n",
              "      gap: 12px;\n",
              "    }\n",
              "\n",
              "    .colab-df-convert {\n",
              "      background-color: #E8F0FE;\n",
              "      border: none;\n",
              "      border-radius: 50%;\n",
              "      cursor: pointer;\n",
              "      display: none;\n",
              "      fill: #1967D2;\n",
              "      height: 32px;\n",
              "      padding: 0 0 0 0;\n",
              "      width: 32px;\n",
              "    }\n",
              "\n",
              "    .colab-df-convert:hover {\n",
              "      background-color: #E2EBFA;\n",
              "      box-shadow: 0px 1px 2px rgba(60, 64, 67, 0.3), 0px 1px 3px 1px rgba(60, 64, 67, 0.15);\n",
              "      fill: #174EA6;\n",
              "    }\n",
              "\n",
              "    [theme=dark] .colab-df-convert {\n",
              "      background-color: #3B4455;\n",
              "      fill: #D2E3FC;\n",
              "    }\n",
              "\n",
              "    [theme=dark] .colab-df-convert:hover {\n",
              "      background-color: #434B5C;\n",
              "      box-shadow: 0px 1px 3px 1px rgba(0, 0, 0, 0.15);\n",
              "      filter: drop-shadow(0px 1px 2px rgba(0, 0, 0, 0.3));\n",
              "      fill: #FFFFFF;\n",
              "    }\n",
              "  </style>\n",
              "\n",
              "      <script>\n",
              "        const buttonEl =\n",
              "          document.querySelector('#df-95a7ebe6-3113-4ac7-939f-9d73820b1986 button.colab-df-convert');\n",
              "        buttonEl.style.display =\n",
              "          google.colab.kernel.accessAllowed ? 'block' : 'none';\n",
              "\n",
              "        async function convertToInteractive(key) {\n",
              "          const element = document.querySelector('#df-95a7ebe6-3113-4ac7-939f-9d73820b1986');\n",
              "          const dataTable =\n",
              "            await google.colab.kernel.invokeFunction('convertToInteractive',\n",
              "                                                     [key], {});\n",
              "          if (!dataTable) return;\n",
              "\n",
              "          const docLinkHtml = 'Like what you see? Visit the ' +\n",
              "            '<a target=\"_blank\" href=https://colab.research.google.com/notebooks/data_table.ipynb>data table notebook</a>'\n",
              "            + ' to learn more about interactive tables.';\n",
              "          element.innerHTML = '';\n",
              "          dataTable['output_type'] = 'display_data';\n",
              "          await google.colab.output.renderOutput(dataTable, element);\n",
              "          const docLink = document.createElement('div');\n",
              "          docLink.innerHTML = docLinkHtml;\n",
              "          element.appendChild(docLink);\n",
              "        }\n",
              "      </script>\n",
              "    </div>\n",
              "  </div>\n",
              "  "
            ]
          },
          "metadata": {},
          "execution_count": 23
        }
      ],
      "source": [
        "userid1 = pd.DataFrame(\n",
        "    {\n",
        "        'Education': [3],\n",
        "        'Sex': ['male'], \n",
        "        'Age': [23],\n",
        "        'Sibling': [0],\n",
        "        'Placetest': [70],\n",
        "    }\n",
        ")\n",
        "userid1"
      ]
    },
    {
      "cell_type": "code",
      "execution_count": null,
      "metadata": {
        "colab": {
          "base_uri": "https://localhost:8080/",
          "height": 81
        },
        "id": "69B5kPrT7QRX",
        "outputId": "5f069c0a-d94d-46a4-8794-800347eedfe1"
      },
      "outputs": [
        {
          "output_type": "execute_result",
          "data": {
            "text/plain": [
              "   Education     Sex  Age  Sibling  Placetest\n",
              "0          1  female   21        0         80"
            ],
            "text/html": [
              "\n",
              "  <div id=\"df-6c3954d8-a83e-4651-8d8d-8e064e92e002\">\n",
              "    <div class=\"colab-df-container\">\n",
              "      <div>\n",
              "<style scoped>\n",
              "    .dataframe tbody tr th:only-of-type {\n",
              "        vertical-align: middle;\n",
              "    }\n",
              "\n",
              "    .dataframe tbody tr th {\n",
              "        vertical-align: top;\n",
              "    }\n",
              "\n",
              "    .dataframe thead th {\n",
              "        text-align: right;\n",
              "    }\n",
              "</style>\n",
              "<table border=\"1\" class=\"dataframe\">\n",
              "  <thead>\n",
              "    <tr style=\"text-align: right;\">\n",
              "      <th></th>\n",
              "      <th>Education</th>\n",
              "      <th>Sex</th>\n",
              "      <th>Age</th>\n",
              "      <th>Sibling</th>\n",
              "      <th>Placetest</th>\n",
              "    </tr>\n",
              "  </thead>\n",
              "  <tbody>\n",
              "    <tr>\n",
              "      <th>0</th>\n",
              "      <td>1</td>\n",
              "      <td>female</td>\n",
              "      <td>21</td>\n",
              "      <td>0</td>\n",
              "      <td>80</td>\n",
              "    </tr>\n",
              "  </tbody>\n",
              "</table>\n",
              "</div>\n",
              "      <button class=\"colab-df-convert\" onclick=\"convertToInteractive('df-6c3954d8-a83e-4651-8d8d-8e064e92e002')\"\n",
              "              title=\"Convert this dataframe to an interactive table.\"\n",
              "              style=\"display:none;\">\n",
              "        \n",
              "  <svg xmlns=\"http://www.w3.org/2000/svg\" height=\"24px\"viewBox=\"0 0 24 24\"\n",
              "       width=\"24px\">\n",
              "    <path d=\"M0 0h24v24H0V0z\" fill=\"none\"/>\n",
              "    <path d=\"M18.56 5.44l.94 2.06.94-2.06 2.06-.94-2.06-.94-.94-2.06-.94 2.06-2.06.94zm-11 1L8.5 8.5l.94-2.06 2.06-.94-2.06-.94L8.5 2.5l-.94 2.06-2.06.94zm10 10l.94 2.06.94-2.06 2.06-.94-2.06-.94-.94-2.06-.94 2.06-2.06.94z\"/><path d=\"M17.41 7.96l-1.37-1.37c-.4-.4-.92-.59-1.43-.59-.52 0-1.04.2-1.43.59L10.3 9.45l-7.72 7.72c-.78.78-.78 2.05 0 2.83L4 21.41c.39.39.9.59 1.41.59.51 0 1.02-.2 1.41-.59l7.78-7.78 2.81-2.81c.8-.78.8-2.07 0-2.86zM5.41 20L4 18.59l7.72-7.72 1.47 1.35L5.41 20z\"/>\n",
              "  </svg>\n",
              "      </button>\n",
              "      \n",
              "  <style>\n",
              "    .colab-df-container {\n",
              "      display:flex;\n",
              "      flex-wrap:wrap;\n",
              "      gap: 12px;\n",
              "    }\n",
              "\n",
              "    .colab-df-convert {\n",
              "      background-color: #E8F0FE;\n",
              "      border: none;\n",
              "      border-radius: 50%;\n",
              "      cursor: pointer;\n",
              "      display: none;\n",
              "      fill: #1967D2;\n",
              "      height: 32px;\n",
              "      padding: 0 0 0 0;\n",
              "      width: 32px;\n",
              "    }\n",
              "\n",
              "    .colab-df-convert:hover {\n",
              "      background-color: #E2EBFA;\n",
              "      box-shadow: 0px 1px 2px rgba(60, 64, 67, 0.3), 0px 1px 3px 1px rgba(60, 64, 67, 0.15);\n",
              "      fill: #174EA6;\n",
              "    }\n",
              "\n",
              "    [theme=dark] .colab-df-convert {\n",
              "      background-color: #3B4455;\n",
              "      fill: #D2E3FC;\n",
              "    }\n",
              "\n",
              "    [theme=dark] .colab-df-convert:hover {\n",
              "      background-color: #434B5C;\n",
              "      box-shadow: 0px 1px 3px 1px rgba(0, 0, 0, 0.15);\n",
              "      filter: drop-shadow(0px 1px 2px rgba(0, 0, 0, 0.3));\n",
              "      fill: #FFFFFF;\n",
              "    }\n",
              "  </style>\n",
              "\n",
              "      <script>\n",
              "        const buttonEl =\n",
              "          document.querySelector('#df-6c3954d8-a83e-4651-8d8d-8e064e92e002 button.colab-df-convert');\n",
              "        buttonEl.style.display =\n",
              "          google.colab.kernel.accessAllowed ? 'block' : 'none';\n",
              "\n",
              "        async function convertToInteractive(key) {\n",
              "          const element = document.querySelector('#df-6c3954d8-a83e-4651-8d8d-8e064e92e002');\n",
              "          const dataTable =\n",
              "            await google.colab.kernel.invokeFunction('convertToInteractive',\n",
              "                                                     [key], {});\n",
              "          if (!dataTable) return;\n",
              "\n",
              "          const docLinkHtml = 'Like what you see? Visit the ' +\n",
              "            '<a target=\"_blank\" href=https://colab.research.google.com/notebooks/data_table.ipynb>data table notebook</a>'\n",
              "            + ' to learn more about interactive tables.';\n",
              "          element.innerHTML = '';\n",
              "          dataTable['output_type'] = 'display_data';\n",
              "          await google.colab.output.renderOutput(dataTable, element);\n",
              "          const docLink = document.createElement('div');\n",
              "          docLink.innerHTML = docLinkHtml;\n",
              "          element.appendChild(docLink);\n",
              "        }\n",
              "      </script>\n",
              "    </div>\n",
              "  </div>\n",
              "  "
            ]
          },
          "metadata": {},
          "execution_count": 24
        }
      ],
      "source": [
        "userid2 = pd.DataFrame(\n",
        "    {\n",
        "        'Education': [1],\n",
        "        'Sex': ['female'], \n",
        "        'Age': [21],\n",
        "        'Sibling': [0],\n",
        "        'Placetest': [80],\n",
        "    }\n",
        ")\n",
        "userid2"
      ]
    },
    {
      "cell_type": "code",
      "execution_count": null,
      "metadata": {
        "colab": {
          "base_uri": "https://localhost:8080/"
        },
        "id": "Zx3LOH9m7QRY",
        "outputId": "002ce387-6c9d-4540-d90d-5be83c07248c"
      },
      "outputs": [
        {
          "output_type": "execute_result",
          "data": {
            "text/plain": [
              "array([0])"
            ]
          },
          "metadata": {},
          "execution_count": 26
        }
      ],
      "source": [
        "# not passed\n",
        "pred1 = saved_tree_clf.predict(userid1)\n",
        "pred1"
      ]
    },
    {
      "cell_type": "code",
      "execution_count": null,
      "metadata": {
        "colab": {
          "base_uri": "https://localhost:8080/"
        },
        "id": "dF04piND7QRY",
        "outputId": "cb0f3b50-493f-4000-976d-0f3ac9ec00c2"
      },
      "outputs": [
        {
          "output_type": "execute_result",
          "data": {
            "text/plain": [
              "array([1])"
            ]
          },
          "metadata": {},
          "execution_count": 27
        }
      ],
      "source": [
        "# passed\n",
        "pred2 = saved_tree_clf.predict(userid2)\n",
        "pred2"
      ]
    }
  ],
  "metadata": {
    "interpreter": {
      "hash": "60983cc5b4e6e68ad045e44d0cff1b681bb235747c6ffab0a64a1207595c05a7"
    },
    "kernelspec": {
      "display_name": "Python 3.8.1 64-bit ('venv': venv)",
      "name": "python3"
    },
    "language_info": {
      "codemirror_mode": {
        "name": "ipython",
        "version": 3
      },
      "file_extension": ".py",
      "mimetype": "text/x-python",
      "name": "python",
      "nbconvert_exporter": "python",
      "pygments_lexer": "ipython3",
      "version": "3.9.7"
    },
    "colab": {
      "name": "linen_app.ipynb",
      "provenance": []
    }
  },
  "nbformat": 4,
  "nbformat_minor": 0
}